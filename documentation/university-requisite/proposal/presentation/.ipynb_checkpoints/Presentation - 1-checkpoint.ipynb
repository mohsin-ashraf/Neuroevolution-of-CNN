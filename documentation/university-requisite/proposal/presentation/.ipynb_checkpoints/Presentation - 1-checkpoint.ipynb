{
 "cells": [
  {
   "cell_type": "markdown",
   "metadata": {
    "slideshow": {
     "slide_type": "slide"
    }
   },
   "source": [
    "# NICO (Nature Inspired Convolutional Neural Networks Optimization)\n",
    "## Team\n",
    "<div style=\"text-align:center\">\n",
    "    ### 15140094 Mohsin Ashraf (Team Lead)\n",
    "### 14140062 Mushood Haneef\n",
    "### 15140107 Mehvish Hameed\n",
    "### 14140044 Rida Yaqoob\n",
    "</div>"
   ]
  },
  {
   "cell_type": "markdown",
   "metadata": {
    "slideshow": {
     "slide_type": "subslide"
    }
   },
   "source": [
    "## "
   ]
  }
 ],
 "metadata": {
  "celltoolbar": "Slideshow",
  "kernelspec": {
   "display_name": "Python 3",
   "language": "python",
   "name": "python3"
  },
  "language_info": {
   "codemirror_mode": {
    "name": "ipython",
    "version": 3
   },
   "file_extension": ".py",
   "mimetype": "text/x-python",
   "name": "python",
   "nbconvert_exporter": "python",
   "pygments_lexer": "ipython3",
   "version": "3.7.3"
  }
 },
 "nbformat": 4,
 "nbformat_minor": 2
}
