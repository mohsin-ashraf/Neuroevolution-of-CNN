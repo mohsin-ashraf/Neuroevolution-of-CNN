{
 "cells": [
  {
   "cell_type": "markdown",
   "metadata": {
    "slideshow": {
     "slide_type": "slide"
    }
   },
   "source": [
    "# NICO (Nature Inspired Convolutional Neural Networks Optimization)\n",
    "\n",
    "<div style=\"text-align:center\">\n",
    "    <h2> 15140094 Mohsin Ashraf (Team Lead)</h2>\n",
    "    <h2> 14140062 Mushood Haneef</2>\n",
    "    <h2> 15140107 Mehvish Hameed</h2>\n",
    "    <h2>14140044 Rida Yaqoob</h2>\n",
    "</div>"
   ]
  },
  {
   "cell_type": "markdown",
   "metadata": {
    "slideshow": {
     "slide_type": "subslide"
    }
   },
   "source": [
    "## "
   ]
  }
 ],
 "metadata": {
  "celltoolbar": "Slideshow",
  "kernelspec": {
   "display_name": "Python 3",
   "language": "python",
   "name": "python3"
  },
  "language_info": {
   "codemirror_mode": {
    "name": "ipython",
    "version": 3
   },
   "file_extension": ".py",
   "mimetype": "text/x-python",
   "name": "python",
   "nbconvert_exporter": "python",
   "pygments_lexer": "ipython3",
   "version": "3.7.3"
  }
 },
 "nbformat": 4,
 "nbformat_minor": 2
}
