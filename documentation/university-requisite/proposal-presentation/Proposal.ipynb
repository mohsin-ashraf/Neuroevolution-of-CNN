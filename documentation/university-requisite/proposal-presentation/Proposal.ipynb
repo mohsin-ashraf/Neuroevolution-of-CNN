{
 "cells": [
  {
   "cell_type": "markdown",
   "metadata": {
    "slideshow": {
     "slide_type": "slide"
    }
   },
   "source": [
    "<h1 style=\"text-align:center\">Nature Inspired CNNs Optimization</h1>\n",
    "<p style=\"text-align:center\">(Convolutional Neural Networks)</p>"
   ]
  },
  {
   "cell_type": "markdown",
   "metadata": {
    "slideshow": {
     "slide_type": "slide"
    }
   },
   "source": [
    "<h1 style=\"text-align:center\">Convolutional Neural Networks (CNNs)</h1>"
   ]
  },
  {
   "cell_type": "markdown",
   "metadata": {
    "slideshow": {
     "slide_type": "subslide"
    }
   },
   "source": [
    "<h2 style=\"text-align:center\">Definition</h2>\n",
    "<p style=\"text-align:center\">A deep-neural network losely inspired by the human visual cortex, which is commonly used in analysing image data<p>"
   ]
  },
  {
   "cell_type": "markdown",
   "metadata": {
    "slideshow": {
     "slide_type": "subslide"
    }
   },
   "source": [
    "<h2 style=\"text-align:center\">Architecture & Working</h2>"
   ]
  },
  {
   "cell_type": "markdown",
   "metadata": {
    "slideshow": {
     "slide_type": "subslide"
    }
   },
   "source": [
    "<h3 style=\"text-align:center\">Layered Architecture</h3>\n",
    "<img src=\"images/architecture1.png\" alt=\"architecture1.png\"></img>"
   ]
  },
  {
   "cell_type": "markdown",
   "metadata": {
    "slideshow": {
     "slide_type": "subslide"
    }
   },
   "source": [
    "<h3 style=\"text-align:center\">Block Architecture</h3>\n",
    "<img src=\"images/2-Figure1-1.png\" />"
   ]
  },
  {
   "cell_type": "markdown",
   "metadata": {
    "slideshow": {
     "slide_type": "subslide"
    }
   },
   "source": [
    "<h3 style=\"text-align:center\">Activation</h3>\n",
    "<img src=\"images/ann-act.gif\" />"
   ]
  },
  {
   "cell_type": "markdown",
   "metadata": {
    "slideshow": {
     "slide_type": "subslide"
    }
   },
   "source": [
    "<h3 style=\"text-align:center\">Convolution</h3>\n",
    "<img src=\"images/convolution.gif\" alt=\"Convolution Image\" title=\"Convolution Operation\" />"
   ]
  },
  {
   "cell_type": "markdown",
   "metadata": {
    "slideshow": {
     "slide_type": "subslide"
    }
   },
   "source": [
    "<h3 style=\"text-align:center\">Pooling</h3>\n",
    "<img src=\"images/max_pooling.gif\" />"
   ]
  },
  {
   "cell_type": "markdown",
   "metadata": {
    "slideshow": {
     "slide_type": "slide"
    }
   },
   "source": [
    "<h1 style=\"text-align:center\">Evolutionary Algorithms</h1>"
   ]
  },
  {
   "cell_type": "markdown",
   "metadata": {
    "slideshow": {
     "slide_type": "subslide"
    }
   },
   "source": [
    "<h2 style=\"text-align:center\">Evolution</h2>\n",
    "<p style=\"text-align: center\">A process resulting in the improvement of a species over the span of a few generations by adapting and learning from the environment.</p>"
   ]
  },
  {
   "cell_type": "markdown",
   "metadata": {
    "slideshow": {
     "slide_type": "subslide"
    }
   },
   "source": [
    "<h2 style=\"text-align: center\">Evolutionary Algorithms</h2>\n",
    "<p style=\"text-align: center\">Algorithms inspired by the process of evolution in nature</p>\n",
    "<img style=\"text-align: center\" src=\"images/pso.gif\" />"
   ]
  },
  {
   "cell_type": "markdown",
   "metadata": {
    "slideshow": {
     "slide_type": "slide"
    }
   },
   "source": [
    "<h2 style=\"text-align: center\">Problem</h2>\n",
    "<ul>\n",
    "    <li>Time Consuming</li>\n",
    "    <li>Trial & Error</li>\n",
    "    <li>Heavy Knowledge Base Required</li>\n",
    "</ul>"
   ]
  },
  {
   "cell_type": "markdown",
   "metadata": {
    "slideshow": {
     "slide_type": "subslide"
    }
   },
   "source": [
    "<h2 style=\"text-align: center\">Related Work</h2>\n",
    "<ul>\n",
    "    <li>EXACT</li>\n",
    "    <li>IP-PSO</li>\n",
    "    <li>CGP</li>\n",
    "    <li>ImageNet</li>\n",
    "    <li>Parallel Computing</li>\n",
    "</ul>"
   ]
  },
  {
   "cell_type": "markdown",
   "metadata": {
    "slideshow": {
     "slide_type": "subslide"
    }
   },
   "source": [
    "<h2 style=\"text-align: center\">Our Work</h2>\n",
    "<ul>\n",
    "    <li>\n",
    "        <p>Hybrid Approach Combining All Previously Mentioned Approaches.</p>\n",
    "    </li>\n",
    "    <li>\n",
    "        <p>Provided a UI for Ease of Access to Users and Better Usability</p>\n",
    "    </li>\n",
    "    <li>\n",
    "        <p>Improving efficieny by Parallelizing the CNN Evaluation Process</p>\n",
    "    </li>"
   ]
  },
  {
   "cell_type": "markdown",
   "metadata": {
    "slideshow": {
     "slide_type": "subslide"
    }
   },
   "source": [
    "<h3 style=\"text-align: center\">Compare and Contrast</h3>\n",
    "<ul>\n",
    "    <li>Difference in the Parameters Handled</li>\n",
    "    <li>Addition of an interface for users</li>\n",
    "    <li>Parallel working efficiency</li>\n",
    "</ul>"
   ]
  },
  {
   "cell_type": "markdown",
   "metadata": {
    "slideshow": {
     "slide_type": "subslide"
    }
   },
   "source": [
    "<h1 style=\"text-align:center\">Stakeholders</h1>\n",
    "<ul>\n",
    "    <li>Data scientists</li>\n",
    "    <li>Teachers</li>\n",
    "    <li>Students</li>\n",
    "    <li>Machine Learning enthusiasts</li>\n",
    "    <li>Researchers</li>\n",
    "</ul>"
   ]
  },
  {
   "cell_type": "markdown",
   "metadata": {
    "slideshow": {
     "slide_type": "subslide"
    }
   },
   "source": [
    "<h1 style=\"text-align:center\">Project Scope</h1>\n",
    "<img src=\"images/fyp-feature-tree.png\" />"
   ]
  },
  {
   "cell_type": "markdown",
   "metadata": {
    "slideshow": {
     "slide_type": "slide"
    }
   },
   "source": [
    "<h1 style=\"text-align:center\">JARGON</h1>"
   ]
  },
  {
   "cell_type": "markdown",
   "metadata": {
    "slideshow": {
     "slide_type": "subslide"
    }
   },
   "source": [
    "# Dynamic programming\n",
    "Dynamic Programming is a method for solving a complex problem by breaking it down into a collection of simpler subproblems, solving each of those subproblems just once, and storing their solutions using a memory-based data structure."
   ]
  },
  {
   "cell_type": "markdown",
   "metadata": {
    "slideshow": {
     "slide_type": "subslide"
    }
   },
   "source": [
    "# RCNN\n",
    "A convolutional neural network (CNN) is mainly for image classification. While an R-CNN, with the R standing for region, is for object detection. A typical CNN can only tell you the class of the objects but not where they are located."
   ]
  },
  {
   "cell_type": "markdown",
   "metadata": {
    "slideshow": {
     "slide_type": "subslide"
    }
   },
   "source": [
    "# Fitness function\n",
    "A fitness function is a particular type of objective function that is used to summarize, as a single figure of merit, how close a given design solution is to achieving the set aims."
   ]
  },
  {
   "cell_type": "markdown",
   "metadata": {
    "slideshow": {
     "slide_type": "subslide"
    }
   },
   "source": [
    "# Topology\n",
    "The elements that make up a CNN framework (e.g hidden layers, kernal filter and number of neurons etc)."
   ]
  },
  {
   "cell_type": "markdown",
   "metadata": {
    "slideshow": {
     "slide_type": "subslide"
    }
   },
   "source": [
    "# Deep learning networks\n",
    "Deep learning is a subset of machine learning where artificial neural networks, algorithms inspired by the human brain, learn from large amounts of data."
   ]
  },
  {
   "cell_type": "markdown",
   "metadata": {
    "slideshow": {
     "slide_type": "subslide"
    }
   },
   "source": [
    "# Distributed systems\n",
    "A distributed system is a system whose components are located on different networked computers, which communicate and coordinate their actions by passing messages to one another."
   ]
  },
  {
   "cell_type": "markdown",
   "metadata": {
    "slideshow": {
     "slide_type": "subslide"
    }
   },
   "source": [
    "# Master-slave distributed systems\n",
    "Master/slave (technology) Master/slave is a model of communication where one device or process has unidirectional control over one or more other devices. "
   ]
  },
  {
   "cell_type": "markdown",
   "metadata": {
    "slideshow": {
     "slide_type": "subslide"
    }
   },
   "source": [
    "# Evolutionary algorithms\n",
    "In artificial intelligence, an evolutionary algorithm is a subset of evolutionary computation, a generic population-based metaheuristic optimization algorithm."
   ]
  },
  {
   "cell_type": "markdown",
   "metadata": {
    "slideshow": {
     "slide_type": "subslide"
    }
   },
   "source": [
    "# Stride\n",
    "Stride is the number of pixels shifts over the input matrix"
   ]
  },
  {
   "cell_type": "markdown",
   "metadata": {
    "slideshow": {
     "slide_type": "fragment"
    }
   },
   "source": [
    "<img src=\"images/strid-2.gif\" />\n",
    "<h3 style=\"text-align:center\">Stride with 2 Step size</h3>"
   ]
  },
  {
   "cell_type": "markdown",
   "metadata": {
    "slideshow": {
     "slide_type": "subslide"
    }
   },
   "source": [
    "# Convolution\n",
    "<quote>A form or shape that is folded in curved</quote> <br/>\n",
    "In mathematics convolution is a mathematical operation on two functions to produce a third function that expresses how the shape of one is modified by the other. The term convolution refers to both the result function and to the process of computing it."
   ]
  },
  {
   "cell_type": "markdown",
   "metadata": {
    "slideshow": {
     "slide_type": "subslide"
    }
   },
   "source": [
    "<img src=\"images/convolution.gif\" alt=\"Convolution Image\" title=\"Convolution Operation\" />"
   ]
  },
  {
   "cell_type": "markdown",
   "metadata": {
    "slideshow": {
     "slide_type": "subslide"
    }
   },
   "source": [
    "# CNNs\n",
    "A convolutional neural network (CNN) is a type of artificial neural network used in image recognition and processing that is specifically designed to process pixel data.\n"
   ]
  },
  {
   "cell_type": "markdown",
   "metadata": {
    "slideshow": {
     "slide_type": "subslide"
    }
   },
   "source": [
    "# Pooling\n",
    "\"Region of Interest\" pooling (also known as RoI pooling) is a variant of max pooling, in which output size is fixed and input rectangle is a parameter. Pooling is an important component of convolutional neural networks for object detection based on Fast <b>R-CNN</b> architecture (A convolutional neural network (CNN) is mainly for image classification. While an R-CNN, with the R standing for region, is for object detection. A typical CNN can only tell you the class of the objects but not where they are located)."
   ]
  },
  {
   "cell_type": "markdown",
   "metadata": {
    "slideshow": {
     "slide_type": "fragment"
    }
   },
   "source": [
    "## Purpose\n",
    "A pooling layer is another building block of a CNN. Pooling. Its function is to progressively reduce the spatial size of the representation to reduce the amount of parameters and computation in the network."
   ]
  },
  {
   "cell_type": "markdown",
   "metadata": {
    "slideshow": {
     "slide_type": "subslide"
    }
   },
   "source": [
    "<img src=\"images/max_pooling.gif\" /> <br />\n",
    "<h3 style='text-align:center'>Max Pooling</h3>"
   ]
  }
 ],
 "metadata": {
  "celltoolbar": "Slideshow",
  "kernelspec": {
   "display_name": "Python 3",
   "language": "python",
   "name": "python3"
  },
  "language_info": {
   "codemirror_mode": {
    "name": "ipython",
    "version": 3
   },
   "file_extension": ".py",
   "mimetype": "text/x-python",
   "name": "python",
   "nbconvert_exporter": "python",
   "pygments_lexer": "ipython3",
   "version": "3.7.2"
  }
 },
 "nbformat": 4,
 "nbformat_minor": 2
}
